{
 "cells": [
  {
   "cell_type": "code",
   "execution_count": 1,
   "metadata": {},
   "outputs": [],
   "source": [
    "# Run the following command in your shell to enable interactive features in jupyter\n",
    "# jupyter nbextension enable --py widgetsnbextension\n",
    "import IPython.display as ipd\n",
    "\n",
    "from gui_backend import *\n",
    "%matplotlib qt5"
   ]
  },
  {
   "cell_type": "code",
   "execution_count": 2,
   "metadata": {
    "scrolled": true
   },
   "outputs": [
    {
     "data": {
      "application/vnd.jupyter.widget-view+json": {
       "model_id": "5aefc512a3094fdf9c6c427b8e8acccc",
       "version_major": 2,
       "version_minor": 0
      },
      "text/plain": [
       "interactive(children=(Dropdown(description='Recording you want to explore', options=(3, 5, 6, 8, 9, 10, 11, 12…"
      ]
     },
     "metadata": {},
     "output_type": "display_data"
    }
   ],
   "source": [
    "\"\"\"Choose which recording to investigate\"\"\"\n",
    "pick_rec_no()"
   ]
  },
  {
   "cell_type": "code",
   "execution_count": 4,
   "metadata": {
    "scrolled": false
   },
   "outputs": [
    {
     "data": {
      "application/vnd.jupyter.widget-view+json": {
       "model_id": "9135b7c88d124c17b6bccba839ae43d1",
       "version_major": 2,
       "version_minor": 0
      },
      "text/plain": [
       "interactive(children=(FloatSlider(value=0.0, continuous_update=False, description='Start in minutes', max=45.5…"
      ]
     },
     "metadata": {},
     "output_type": "display_data"
    }
   ],
   "source": [
    "\"\"\"Choose the time interval to investigate (rerun when recording has been updated)\"\"\"\n",
    "pick_plot_limits()"
   ]
  },
  {
   "cell_type": "code",
   "execution_count": 5,
   "metadata": {
    "scrolled": true
   },
   "outputs": [
    {
     "data": {
      "application/vnd.jupyter.widget-view+json": {
       "model_id": "a79d202ec19c42159d595e2e83d14d11",
       "version_major": 2,
       "version_minor": 0
      },
      "text/plain": [
       "interactive(children=(IntSlider(value=-160, continuous_update=False, description='Amplitude range: Min', max=3…"
      ]
     },
     "metadata": {},
     "output_type": "display_data"
    }
   ],
   "source": [
    "\"\"\"Make the Spectrogram\"\"\"\n",
    "plt.ioff()\n",
    "spectrogram()"
   ]
  },
  {
   "cell_type": "code",
   "execution_count": null,
   "metadata": {},
   "outputs": [],
   "source": [
    "\"\"\" Animate a slider that synch's with the sound initiated below. \n",
    "    Run this and the cell after quickly after each other: \n",
    "    Shift+double enter. WIll only work for short sequences\"\"\"\n",
    "# adjust this value if the red line and audio are out of sync\n",
    "# increase if the red line is lacking behind the sound/ too slow\n",
    "# decrease if the red line is before the sound/ too fast\n",
    "resolution = 7500 \n",
    "fig, x_dwnsampled, animation_frame = animate_spectrogram(resolution=resolution)\n",
    "an = FuncAnimation(fig, func=animation_frame, frames=x_dwnsampled, interval=1, repeat=False)\n",
    "plt.show()"
   ]
  },
  {
   "cell_type": "code",
   "execution_count": null,
   "metadata": {},
   "outputs": [],
   "source": [
    "\"\"\"Play the microphone data\"\"\"\n",
    "import IPython.display as ipd\n",
    "ipd.Audio(data_sliced['audios_sl'][0], rate=data['sample_rates'][0], autoplay=True)"
   ]
  },
  {
   "cell_type": "code",
   "execution_count": 7,
   "metadata": {},
   "outputs": [],
   "source": [
    "\"Simply draw the spectrogram\"\n",
    "plt.show()"
   ]
  },
  {
   "cell_type": "code",
   "execution_count": null,
   "metadata": {},
   "outputs": [],
   "source": []
  }
 ],
 "metadata": {
  "kernelspec": {
   "display_name": "Python 3.8.1 64-bit ('birdsong': conda)",
   "language": "python",
   "name": "python38164bitbirdsongcondaf01f47e090d54e6d9d5aa73f04ec7125"
  },
  "language_info": {
   "codemirror_mode": {
    "name": "ipython",
    "version": 3
   },
   "file_extension": ".py",
   "mimetype": "text/x-python",
   "name": "python",
   "nbconvert_exporter": "python",
   "pygments_lexer": "ipython3",
   "version": "3.8.1"
  }
 },
 "nbformat": 4,
 "nbformat_minor": 4
}
