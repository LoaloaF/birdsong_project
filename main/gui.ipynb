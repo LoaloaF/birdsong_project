{
 "cells": [
  {
   "cell_type": "code",
   "execution_count": 1,
   "metadata": {},
   "outputs": [],
   "source": [
    "# Run the following command in your shell to enable interactive features in jupyter\n",
    "# jupyter nbextension enable --py widgetsnbextension\n",
    "import IPython.display as ipd\n",
    "\n",
    "from gui_backend import *\n",
    "%matplotlib qt5"
   ]
  },
  {
   "cell_type": "code",
   "execution_count": null,
   "metadata": {
    "scrolled": true
   },
   "outputs": [],
   "source": [
    "\"\"\"Choose which recording to investigate\n",
    "The filtered data option is very superficially impolemented. It just uses the 0-6-recording aggrevated data\"\"\"\n",
    "\n",
    "pick_rec_no()"
   ]
  },
  {
   "cell_type": "code",
   "execution_count": null,
   "metadata": {
    "scrolled": true
   },
   "outputs": [],
   "source": [
    "\"\"\"Choose the time interval to investigate (rerun when recording has been updated)\"\"\"\n",
    "pick_plot_limits()"
   ]
  },
  {
   "cell_type": "code",
   "execution_count": null,
   "metadata": {
    "scrolled": false
   },
   "outputs": [],
   "source": [
    "\"\"\"Make the Spectrogram\"\"\"\n",
    "plt.ioff()\n",
    "spectrogram()"
   ]
  },
  {
   "cell_type": "code",
   "execution_count": null,
   "metadata": {},
   "outputs": [],
   "source": [
    "\"\"\" Animate a slider that synch's with the sound initiated below. \n",
    "    Run this and the cell after quickly after each other: \n",
    "    Shift+double enter. WIll only work for short sequences\"\"\"\n",
    "# adjust the resolution value if the red line and audio are out of sync\n",
    "# increase if the red line is lacking behind the sound/ too slow\n",
    "# decrease if the red line is before the sound/ too fast\n",
    "resolution = 7400 \n",
    "fig, x_dwnsampled, animation_frame = animate_spectrogram(resolution=resolution)\n",
    "an = FuncAnimation(fig, func=animation_frame, frames=x_dwnsampled, interval=1, repeat=False)\n",
    "plt.show()"
   ]
  },
  {
   "cell_type": "code",
   "execution_count": null,
   "metadata": {},
   "outputs": [],
   "source": [
    "\"\"\"Play the microphone data\"\"\"\n",
    "import IPython.display as ipd\n",
    "ipd.Audio(daq['data_sl'], rate=daq['sample_rate'], autoplay=True)"
   ]
  },
  {
   "cell_type": "code",
   "execution_count": null,
   "metadata": {},
   "outputs": [],
   "source": [
    "\"Simply draw the spectrogram\"\n",
    "plt.show()"
   ]
  },
  {
   "cell_type": "code",
   "execution_count": null,
   "metadata": {},
   "outputs": [],
   "source": []
  }
 ],
 "metadata": {
  "kernelspec": {
   "display_name": "Python 3.8.1 64-bit ('birdsong': conda)",
   "language": "python",
   "name": "python38164bitbirdsongcondaf01f47e090d54e6d9d5aa73f04ec7125"
  },
  "language_info": {
   "codemirror_mode": {
    "name": "ipython",
    "version": 3
   },
   "file_extension": ".py",
   "mimetype": "text/x-python",
   "name": "python",
   "nbconvert_exporter": "python",
   "pygments_lexer": "ipython3",
   "version": "3.7.7"
  }
 },
 "nbformat": 4,
 "nbformat_minor": 4
}
